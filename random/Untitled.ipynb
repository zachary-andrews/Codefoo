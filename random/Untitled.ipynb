{
 "cells": [
  {
   "cell_type": "code",
   "execution_count": 1,
   "metadata": {},
   "outputs": [
    {
     "ename": "ImportError",
     "evalue": "No module named numpy",
     "output_type": "error",
     "traceback": [
      "\u001b[0;31m---------------------------------------------------------------------------\u001b[0m",
      "\u001b[0;31mImportError\u001b[0m                               Traceback (most recent call last)",
      "\u001b[0;32m<ipython-input-1-6ef906de930d>\u001b[0m in \u001b[0;36m<module>\u001b[0;34m()\u001b[0m\n\u001b[0;32m----> 1\u001b[0;31m \u001b[0;32mimport\u001b[0m \u001b[0mnumpy\u001b[0m \u001b[0;32mas\u001b[0m \u001b[0mnp\u001b[0m\u001b[0;34m\u001b[0m\u001b[0m\n\u001b[0m\u001b[1;32m      2\u001b[0m \u001b[0;32mimport\u001b[0m \u001b[0mmatplotlib\u001b[0m\u001b[0;34m.\u001b[0m\u001b[0mpyplot\u001b[0m \u001b[0;32mas\u001b[0m \u001b[0mplt\u001b[0m\u001b[0;34m\u001b[0m\u001b[0m\n\u001b[1;32m      3\u001b[0m \u001b[0mget_ipython\u001b[0m\u001b[0;34m(\u001b[0m\u001b[0;34m)\u001b[0m\u001b[0;34m.\u001b[0m\u001b[0mmagic\u001b[0m\u001b[0;34m(\u001b[0m\u001b[0;34mu'matplotlib inline'\u001b[0m\u001b[0;34m)\u001b[0m\u001b[0;34m\u001b[0m\u001b[0m\n\u001b[1;32m      4\u001b[0m \u001b[0;32mfrom\u001b[0m \u001b[0mIPython\u001b[0m\u001b[0;34m.\u001b[0m\u001b[0mdisplay\u001b[0m \u001b[0;32mimport\u001b[0m \u001b[0mdisplay\u001b[0m\u001b[0;34m,\u001b[0m \u001b[0mclear_output\u001b[0m\u001b[0;34m\u001b[0m\u001b[0m\n",
      "\u001b[0;31mImportError\u001b[0m: No module named numpy"
     ]
    }
   ],
   "source": [
    "import numpy as np\n",
    "import matplotlib.pyplot as plt\n",
    "%matplotlib inline\n",
    "from IPython.display import display, clear_output"
   ]
  },
  {
   "cell_type": "code",
   "execution_count": 2,
   "metadata": {},
   "outputs": [
    {
     "ename": "SyntaxError",
     "evalue": "invalid syntax (<ipython-input-2-18ba4e71f9fb>, line 1)",
     "output_type": "error",
     "traceback": [
      "\u001b[0;36m  File \u001b[0;32m\"<ipython-input-2-18ba4e71f9fb>\"\u001b[0;36m, line \u001b[0;32m1\u001b[0m\n\u001b[0;31m    pip install numpy\u001b[0m\n\u001b[0m              ^\u001b[0m\n\u001b[0;31mSyntaxError\u001b[0m\u001b[0;31m:\u001b[0m invalid syntax\n"
     ]
    }
   ],
   "source": [
    "pip install numpy\n"
   ]
  },
  {
   "cell_type": "code",
   "execution_count": null,
   "metadata": {},
   "outputs": [],
   "source": [
    "import numpy as np\n",
    "import matplotlib.pyplot as plt\n",
    "%matplotlib inline\n",
    "from IPython.display import display, clear_output"
   ]
  },
  {
   "cell_type": "code",
   "execution_count": null,
   "metadata": {},
   "outputs": [],
   "source": [
    "n_samples = 100\n",
    "X = np.random.uniform(0, 10, (n_samples, 1))\n",
    "T = 2 - 0.1 * X + np.random.normal(0, 0.1, (n_samples,1)) + 0.05 * (X - 6)**2 # Change 0 to 0.05 to try to fit nonlinear cloud\n",
    "\n",
    "X1 = np.insert(X, 0, 1, axis=1)\n",
    "\n",
    "X1.shape, T.shape"
   ]
  },
  {
   "cell_type": "code",
   "execution_count": 1,
   "metadata": {},
   "outputs": [],
   "source": [
    "import numpy as np\n",
    "import matplotlib.pyplot as plt\n",
    "%matplotlib inline\n",
    "from IPython.display import display, clear_output"
   ]
  },
  {
   "cell_type": "code",
   "execution_count": 2,
   "metadata": {},
   "outputs": [
    {
     "data": {
      "text/plain": [
       "((100, 2), (100, 1))"
      ]
     },
     "execution_count": 2,
     "metadata": {},
     "output_type": "execute_result"
    }
   ],
   "source": [
    "n_samples = 100\n",
    "X = np.random.uniform(0, 10, (n_samples, 1))\n",
    "T = 2 - 0.1 * X + np.random.normal(0, 0.1, (n_samples,1)) + 0.05 * (X - 6)**2 # Change 0 to 0.05 to try to fit nonlinear cloud\n",
    "\n",
    "X1 = np.insert(X, 0, 1, axis=1)\n",
    "\n",
    "X1.shape, T.shape"
   ]
  },
  {
   "cell_type": "code",
   "execution_count": 3,
   "metadata": {},
   "outputs": [
    {
     "ename": "SyntaxError",
     "evalue": "invalid syntax (<ipython-input-3-6950501d6498>, line 24)",
     "output_type": "error",
     "traceback": [
      "\u001b[0;36m  File \u001b[0;32m\"<ipython-input-3-6950501d6498>\"\u001b[0;36m, line \u001b[0;32m24\u001b[0m\n\u001b[0;31m    predicted = X1[n:n+1,:] @ w\u001b[0m\n\u001b[0m                            ^\u001b[0m\n\u001b[0;31mSyntaxError\u001b[0m\u001b[0;31m:\u001b[0m invalid syntax\n"
     ]
    }
   ],
   "source": [
    "def run(rho, n_epochs, stepsPerFrame=10):\n",
    "\n",
    "    # Initialize weights to all zeros\n",
    "    # For this demonstration, we will have one variable input. With the constant 1 input, we have 2 weights.\n",
    "    w = np.zeros((2,1))\n",
    "\n",
    "    # Collect the weights after each update in a list for later plotting. \n",
    "    # This is not part of the training algorithm\n",
    "    ws = [w.copy()]\n",
    "\n",
    "    # Create a bunch of x values for plotting\n",
    "    xs = np.linspace(0, 10, 100).reshape((-1,1))\n",
    "    xs1 = np.insert(xs, 0, 1, axis=1)\n",
    "\n",
    "    fig = plt.figure(figsize=(8, 8))\n",
    "\n",
    "    # For each pass (one epoch) through all samples ...\n",
    "    for iter in range(n_epochs):\n",
    "        # For each sample ...\n",
    "        for n in range(n_samples):\n",
    "        \n",
    "            # Calculate prediction using current model, w.\n",
    "            #    n:n+1 is used instead of n to preserve the 2-dimensional matrix structure\n",
    "            predicted = X1[n:n+1,:] @ w\n",
    "            \n",
    "            # Update w using negative gradient of error for nth sample\n",
    "            w += rho * X1[n:n+1, :].T * (T[n:n+1, :] - predicted)\n",
    "            \n",
    "            # Add new w to our list of past w values for plotting\n",
    "            ws.append(w.copy())\n",
    "        \n",
    "            if n % stepsPerFrame == 0:\n",
    "                fig.clf()\n",
    "\n",
    "                # Plot the X and T data.\n",
    "                plt.subplot(2, 1, 1)\n",
    "                plt.plot(X, T, 'o', alpha=0.6, label='Data')\n",
    "                plt.plot(X[n,0], T[n], 'ko', ms=10, label='Last Trained Sample')\n",
    "\n",
    "                # Plot the output of our linear model for a range of x values\n",
    "                plt.plot(xs, xs1 @ w, 'r-', linewidth=5, label='Model')\n",
    "                plt.xlabel('$x$')\n",
    "                plt.legend(loc='upper right')\n",
    "                plt.xlim(0, 10)\n",
    "                plt.ylim(0, 5)\n",
    "\n",
    "                # In second panel plot the weights versus the epoch number\n",
    "                plt.subplot(2, 1, 2)\n",
    "                plt.plot(np.array(ws)[:, :, 0])\n",
    "                plt.xlabel('Updates')\n",
    "                plt.xlim(0, n_epochs * n_samples)\n",
    "                plt.ylim(-1, 3)\n",
    "                plt.legend(('$w_0$', '$w_1$'))\n",
    "        \n",
    "                clear_output(wait=True)\n",
    "                display(fig)\n",
    "    \n",
    "    clear_output(wait=True)\n",
    "    \n",
    "    return w"
   ]
  },
  {
   "cell_type": "code",
   "execution_count": 4,
   "metadata": {},
   "outputs": [
    {
     "ename": "SyntaxError",
     "evalue": "invalid syntax (<ipython-input-4-6950501d6498>, line 24)",
     "output_type": "error",
     "traceback": [
      "\u001b[0;36m  File \u001b[0;32m\"<ipython-input-4-6950501d6498>\"\u001b[0;36m, line \u001b[0;32m24\u001b[0m\n\u001b[0;31m    predicted = X1[n:n+1,:] @ w\u001b[0m\n\u001b[0m                            ^\u001b[0m\n\u001b[0;31mSyntaxError\u001b[0m\u001b[0;31m:\u001b[0m invalid syntax\n"
     ]
    }
   ],
   "source": [
    "def run(rho, n_epochs, stepsPerFrame=10):\n",
    "\n",
    "    # Initialize weights to all zeros\n",
    "    # For this demonstration, we will have one variable input. With the constant 1 input, we have 2 weights.\n",
    "    w = np.zeros((2,1))\n",
    "\n",
    "    # Collect the weights after each update in a list for later plotting. \n",
    "    # This is not part of the training algorithm\n",
    "    ws = [w.copy()]\n",
    "\n",
    "    # Create a bunch of x values for plotting\n",
    "    xs = np.linspace(0, 10, 100).reshape((-1,1))\n",
    "    xs1 = np.insert(xs, 0, 1, axis=1)\n",
    "\n",
    "    fig = plt.figure(figsize=(8, 8))\n",
    "\n",
    "    # For each pass (one epoch) through all samples ...\n",
    "    for iter in range(n_epochs):\n",
    "        # For each sample ...\n",
    "        for n in range(n_samples):\n",
    "        \n",
    "            # Calculate prediction using current model, w.\n",
    "            #    n:n+1 is used instead of n to preserve the 2-dimensional matrix structure\n",
    "            predicted = X1[n:n+1,:] @ w\n",
    "            \n",
    "            # Update w using negative gradient of error for nth sample\n",
    "            w += rho * X1[n:n+1, :].T * (T[n:n+1, :] - predicted)\n",
    "            \n",
    "            # Add new w to our list of past w values for plotting\n",
    "            ws.append(w.copy())\n",
    "        \n",
    "            if n % stepsPerFrame == 0:\n",
    "                fig.clf()\n",
    "\n",
    "                # Plot the X and T data.\n",
    "                plt.subplot(2, 1, 1)\n",
    "                plt.plot(X, T, 'o', alpha=0.6, label='Data')\n",
    "                plt.plot(X[n,0], T[n], 'ko', ms=10, label='Last Trained Sample')\n",
    "\n",
    "                # Plot the output of our linear model for a range of x values\n",
    "                plt.plot(xs, xs1 @ w, 'r-', linewidth=5, label='Model')\n",
    "                plt.xlabel('$x$')\n",
    "                plt.legend(loc='upper right')\n",
    "                plt.xlim(0, 10)\n",
    "                plt.ylim(0, 5)\n",
    "\n",
    "                # In second panel plot the weights versus the epoch number\n",
    "                plt.subplot(2, 1, 2)\n",
    "                plt.plot(np.array(ws)[:, :, 0])\n",
    "                plt.xlabel('Updates')\n",
    "                plt.xlim(0, n_epochs * n_samples)\n",
    "                plt.ylim(-1, 3)\n",
    "                plt.legend(('$w_0$', '$w_1$'))\n",
    "        \n",
    "                clear_output(wait=True)\n",
    "                display(fig)\n",
    "    \n",
    "    clear_output(wait=True)\n",
    "    \n",
    "    return w"
   ]
  },
  {
   "cell_type": "code",
   "execution_count": null,
   "metadata": {},
   "outputs": [],
   "source": []
  }
 ],
 "metadata": {
  "kernelspec": {
   "display_name": "Python 2",
   "language": "python",
   "name": "python2"
  },
  "language_info": {
   "codemirror_mode": {
    "name": "ipython",
    "version": 2
   },
   "file_extension": ".py",
   "mimetype": "text/x-python",
   "name": "python",
   "nbconvert_exporter": "python",
   "pygments_lexer": "ipython2",
   "version": "2.7.15rc1"
  }
 },
 "nbformat": 4,
 "nbformat_minor": 2
}
