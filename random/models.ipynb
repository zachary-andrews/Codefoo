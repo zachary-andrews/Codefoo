{
 "cells": [
  {
   "cell_type": "markdown",
   "metadata": {},
   "source": [
    "$\\newcommand{\\xv}{\\mathbf{x}}\n",
    "\\newcommand{\\Xv}{\\mathbf{X}}\n",
    "\\newcommand{\\yv}{\\mathbf{y}}\n",
    "\\newcommand{\\zv}{\\mathbf{z}}\n",
    "\\newcommand{\\av}{\\mathbf{a}}\n",
    "\\newcommand{\\Wv}{\\mathbf{W}}\n",
    "\\newcommand{\\wv}{\\mathbf{w}}\n",
    "\\newcommand{\\tv}{\\mathbf{t}}\n",
    "\\newcommand{\\Tv}{\\mathbf{T}}\n",
    "\\newcommand{\\muv}{\\boldsymbol{\\mu}}\n",
    "\\newcommand{\\sigmav}{\\boldsymbol{\\sigma}}\n",
    "\\newcommand{\\phiv}{\\boldsymbol{\\phi}}\n",
    "\\newcommand{\\Phiv}{\\boldsymbol{\\Phi}}\n",
    "\\newcommand{\\Sigmav}{\\boldsymbol{\\Sigma}}\n",
    "\\newcommand{\\Lambdav}{\\boldsymbol{\\Lambda}}\n",
    "\\newcommand{\\half}{\\frac{1}{2}}\n",
    "\\newcommand{\\argmax}[1]{\\underset{#1}{\\operatorname{argmax}}}\n",
    "\\newcommand{\\argmin}[1]{\\underset{#1}{\\operatorname{argmin}}}$"
   ]
  },
  {
   "cell_type": "markdown",
   "metadata": {},
   "source": [
    "# Assignment 1: Stochastic Gradient Descent for Simple Models"
   ]
  },
  {
   "cell_type": "markdown",
   "metadata": {},
   "source": [
    "*Type your name and the e-mail where you want us to send your grading feedback.*"
   ]
  },
  {
   "cell_type": "markdown",
   "metadata": {},
   "source": [
    "## Overview"
   ]
  },
  {
   "cell_type": "markdown",
   "metadata": {},
   "source": [
    "*DELETE THE TEXT IN THIS MARKDOWN CELL AND INSERT YOUR OWN SUMMARY OF THIS.* \n",
    "For this first assignment, you will practice editing and running a juypter notebook, deriving simple gradients, and using the gradients to perform stochastic gradient descent to minimize the error of four simple models."
   ]
  },
  {
   "cell_type": "markdown",
   "metadata": {},
   "source": [
    "## Linear Model"
   ]
  },
  {
   "cell_type": "markdown",
   "metadata": {},
   "source": [
    "Using the example text and latex math formatting of formulas in [04 Linear Regression Using Stochastic Gradient Descent (SGD)](http://nbviewer.ipython.org/url/www.cs.colostate.edu/~anderson/cs445/notebooks/04%20Linear%20Regression%20Using%20Stochastic%20Gradient%20Descent%20(SGD).ipynb), write and explain the derivation of the gradient of the sum of squared errors with respect to the linear model's weights and the stochastic gradient descent formula for updating the model's weights."
   ]
  },
  {
   "cell_type": "markdown",
   "metadata": {},
   "source": [
    "Using some of the code in [04 Linear Regression Using Stochastic Gradient Descent (SGD)](http://nbviewer.ipython.org/url/www.cs.colostate.edu/~anderson/cs445/notebooks/04%20Linear%20Regression%20Using%20Stochastic%20Gradient%20Descent%20(SGD).ipynb), write these functions\n",
    "\n",
    "* `model, error_trace = train_linear(X, T,learning_rate, n_epochs)`\n",
    " \n",
    "    * `X` is a two-dimensional matrix (`np.array`) with each row containing one data sample\n",
    "    * `T` is a two-dimensional matrix of one column containing the target values for each sample in `X`. `X.shape[0]` is equal to `T.shape[0]`\n",
    "    * `learning_rate` is the factor multiplying the negative derivative\n",
    "    * `n_epochs` is the number of training epochs to iterate over\n",
    "    * `model` is the two-dimensional matrix of one column containing the resulting weights\n",
    "    * `error_trace` is a list of RMSE values, calculated after each epoch, using your rmse function\n",
    "\n",
    "\n",
    "* `predict = use_linear(model, X)`\n",
    " \n",
    "     * `X` is a two-dimensional matrix (`np.array`) with each row containing one data sample\n",
    "     * `model` is the result of a call to `train_linear`\n",
    "     * `predict` is a two-dimensional matrix of one column containing the predicted values for each value in `T`\n",
    "\n",
    "\n",
    " * `error = rmse(predict, T)`\n",
    " \n",
    "      * `T` is a two-dimensional matrix of one column containing the target values for each sample in `X`\n",
    "      * `predict` is the result of a call to `use_linear(model, X)`\n",
    "      * `error` is the square root of the mean of the squared error between `predict` and `T`"
   ]
  },
  {
   "cell_type": "markdown",
   "metadata": {},
   "source": [
    "# Examples for Testing Your Code"
   ]
  },
  {
   "cell_type": "code",
   "execution_count": 169,
   "metadata": {},
   "outputs": [],
   "source": [
    "n_samples = 100\n",
    "X = np.linspace(0, 10, n_samples).reshape((-1, 1))\n",
    "T = 0.2 - 0.03 * X + np.random.normal(0, 0.05, (n_samples, 1)) + 0.01 * (X - 8)**3\n",
    "T = -0.8 - 0.04 * X  + 0.003 * (X - 2)**3"
   ]
  },
  {
   "cell_type": "code",
   "execution_count": 125,
   "metadata": {},
   "outputs": [
    {
     "name": "stdout",
     "output_type": "stream",
     "text": [
      "0.2631104380467893\n"
     ]
    }
   ],
   "source": [
    "w, error_trace = train_linear(X, T, 0.001, 500)\n",
    "print(rmse(use_linear(w, X), T))"
   ]
  },
  {
   "cell_type": "code",
   "execution_count": 126,
   "metadata": {},
   "outputs": [
    {
     "data": {
      "image/png": "[encoded data removed]",
      "text/plain": [
       "<Figure size 720x432 with 2 Axes>"
      ]
     },
     "metadata": {
      "needs_background": "light"
     },
     "output_type": "display_data"
    }
   ],
   "source": [
    "plt.figure(figsize=(10, 6))\n",
    "plt.subplot(1, 2, 1)\n",
    "plt.plot(error_trace)\n",
    "\n",
    "plt.subplot(1, 2, 2)\n",
    "plt.plot(X, T, 'o', label='Target')\n",
    "plt.plot(X, use_linear(w, X), 'o', label='Prediction')\n",
    "more_xs = np.linspace(-5, 15, 100).reshape((-1, 1))\n",
    "plt.plot(more_xs, use_linear(w, more_xs), label='more xs')\n",
    "plt.legend();"
   ]
  },
  {
   "cell_type": "markdown",
   "metadata": {},
   "source": [
    "## Tanh Model"
   ]
  },
  {
   "cell_type": "markdown",
   "metadata": {},
   "source": [
    "Write two new functions that train and use a model formed by calculating the $\\tanh$ function of the weighted sum of a linear model.  Given the weight vector, $\\wv$, as a column vector, and the $n^{th}$ input sample, $\\xv_n$, as a column vector, the prediction for the above linear model can be written as\n",
    "\n",
    "$$ y_n = \\xv_n^T \\wv$$\n",
    "\n",
    "The prediction for our $\\tanh$ model is given by\n",
    "\n",
    "$$ y_n = \\tanh (\\xv_n^T \\wv) $$\n",
    "\n",
    "\n",
    "To implement the function to train a $\\tanh$ model, you must derive the grad9ejt of the sum of squared error function with respect to the weights.  This derivation now involves the gradient of the $\\tanh$ function. Use latex math notation to show this derivation.  Search the net for help.  [This site, for example](https://theclevermachine.wordpress.com/2014/09/08/derivation-derivatives-for-common-neural-network-activation-functions/) is amazingly helpful.  Remember the [chain rule](https://math.stackexchange.com/questions/78575/derivative-of-sigmoid-function-sigma-x-frac11e-x) for taking derivatives?\n",
    "\n",
    "\n",
    "Now define the two new functions you will need:\n",
    "\n",
    " * `model = train_tanh(X, T,learning_rate, number_of_iterations)`\n",
    " \n",
    "\n",
    " * `predict = use_tanh(model, X)`"
   ]
  },
  {
   "cell_type": "code",
   "execution_count": 128,
   "metadata": {},
   "outputs": [
    {
     "name": "stdout",
     "output_type": "stream",
     "text": [
      "0.1517949939609252\n"
     ]
    }
   ],
   "source": [
    "w, error_trace = train_tanh(X, T, 0.001, 500)\n",
    "print(rmse(use_tanh(w, X), T))"
   ]
  },
  {
   "cell_type": "code",
   "execution_count": 129,
   "metadata": {},
   "outputs": [
    {
     "data": {
      "image/png": "[encoded data removed]",
      "text/plain": [
       "<Figure size 720x432 with 2 Axes>"
      ]
     },
     "metadata": {
      "needs_background": "light"
     },
     "output_type": "display_data"
    }
   ],
   "source": [
    "plt.figure(figsize=(10, 6))\n",
    "plt.subplot(1, 2, 1)\n",
    "plt.plot(error_trace)\n",
    "\n",
    "plt.subplot(1, 2, 2)\n",
    "plt.plot(X, T, 'o', label='Target')\n",
    "plt.plot(X, use_tanh(w, X), 'o', label='Prediction')\n",
    "# more_xs = np.linspace(-2, 12, 100).reshape((-1, 1))\n",
    "plt.plot(more_xs, use_tanh(w, more_xs), label='more xs')\n",
    "\n",
    "plt.legend();"
   ]
  },
  {
   "cell_type": "markdown",
   "metadata": {},
   "source": [
    "## Grading\n",
    "\n",
    "Your notebook will be run and graded automatically.  Test this grading process by first downloading [A1grader.tar](http://www.cs.colostate.edu/~anderson/cs445/notebooks/A1grader.tar) and extract `A1grader.py` from it. Run the code in the following cell to demonstrate an example grading session.  You should see a perfect execution score of 75 out of 75 points if your functions are defined correctly. The remaining 25 points will be based on the results you obtain from the energy data and on your discussions.\n",
    "\n",
    "For the grading script to run correctly, you must first name this notebook as 'Lastname-A1.ipynb' with 'Lastname' being your last name, and then save this notebook.\n",
    "\n",
    "A different, but similar, grading script will be used to grade your checked-in notebook.  It will include additional tests.  You need not include code to test that the values passed in to your functions are the correct form.  "
   ]
  },
  {
   "cell_type": "code",
   "execution_count": 168,
   "metadata": {},
   "outputs": [
    {
     "name": "stdout",
     "output_type": "stream",
     "text": [
      "\n",
      "======================= Code Execution =======================\n",
      "\n",
      "Extracting python code from notebook named 'Anderson-A1.ipynb' and storing in notebookcode.py\n",
      "Removing all statements that are not function or class defs or import statements.\n",
      "\n",
      "Testing\n",
      "  X = np.array([1, 2, 3, 4, 5, 8, 9, 11]).reshape((-1, 1))\n",
      "  T = (((X - 5) * 0.05 +  (X * 0.2) **5) / 5.0 - 5.5) / 6\n",
      "  w, errors = train_linear(X, T, 0.01, 1000)\n",
      "\n",
      "--- 15/15 points. Returned correct values.\n",
      "\n",
      "Testing\n",
      "  prediction = use_linear(w, X)\n",
      "\n",
      "--- 15/15 points. Returned correct values.\n",
      "\n",
      "Testing\n",
      "  rmse_error = rmse(prediction, T)\n",
      "\n",
      "--- 15/15 points. Returned correct values.\n",
      "\n",
      "Testing\n",
      "  w, errors = train_tanh(X, T, 0.01, 1000)\n",
      "\n",
      "--- 15/15 points. Returned correct values.\n",
      "\n",
      "Testing\n",
      "  prediction = use_tanh(w, X)\n",
      "\n",
      "--- 15/15 points. Returned correct values.\n",
      "\n",
      "notebooks Execution Grade is 75 / 75\n",
      "\n",
      " Remaining 25 points will be based on your text describing the derivation of gradients, explanations of code, and plots.\n",
      "\n",
      "notebooks FINAL GRADE is   / 100\n",
      "\n",
      "notebooks EXTRA CREDIT is   / 1\n"
     ]
    }
   ],
   "source": [
    "%run -i \"A1grader.py\""
   ]
  },
  {
   "cell_type": "markdown",
   "metadata": {},
   "source": [
    "## Check-in"
   ]
  },
  {
   "cell_type": "markdown",
   "metadata": {},
   "source": [
    "Do not include this section in your notebook.\n",
    "\n",
    "Name your notebook ```Lastname-A1.ipynb```.  So, for me it would be ```Anderson-A1.ipynb```.  Submit the file using the ```Assignment 1``` link on [Canvas](https://colostate.instructure.com/courses/80879).\n",
    "\n",
    "Grading will be based on \n",
    "\n",
    "  * correct behavior of the required functions listed above,\n",
    "  * easy to understand plots in your notebook,\n",
    "  * readability of the notebook,\n",
    "  * effort in making interesting observations, and in formatting your notebook."
   ]
  },
  {
   "cell_type": "markdown",
   "metadata": {},
   "source": [
    "## Extra Credit\n",
    "\n",
    "Define two new functions to handle the logistic, or sigmoid, function model, \n",
    "\n",
    "$$ y_n = \\frac{1}{1 + e^{- \\xv_n^T \\wv}} $$"
   ]
  }
 ],
 "metadata": {
  "kernelspec": {
   "display_name": "Python 2",
   "language": "python",
   "name": "python2"
  },
  "language_info": {
   "codemirror_mode": {
    "name": "ipython",
    "version": 2
   },
   "file_extension": ".py",
   "mimetype": "text/x-python",
   "name": "python",
   "nbconvert_exporter": "python",
   "pygments_lexer": "ipython2",
   "version": "2.7.15rc1"
  }
 },
 "nbformat": 4,
 "nbformat_minor": 2
}
